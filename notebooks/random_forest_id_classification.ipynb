{
 "cells": [
  {
   "metadata": {},
   "cell_type": "markdown",
   "source": "# ",
   "id": "285103f05eca490c"
  },
  {
   "metadata": {},
   "cell_type": "markdown",
   "source": "Importar librerias",
   "id": "61f912075841497b"
  },
  {
   "metadata": {
    "ExecuteTime": {
     "end_time": "2024-08-20T13:24:05.216787Z",
     "start_time": "2024-08-20T13:24:04.960334Z"
    }
   },
   "cell_type": "code",
   "source": [
    "%load_ext autoreload\n",
    "%autoreload 2"
   ],
   "id": "aa3d3ce4387be761",
   "outputs": [
    {
     "name": "stdout",
     "output_type": "stream",
     "text": [
      "The autoreload extension is already loaded. To reload it, use:\n",
      "  %reload_ext autoreload\n"
     ]
    }
   ],
   "execution_count": 10
  },
  {
   "metadata": {
    "ExecuteTime": {
     "end_time": "2024-08-20T13:24:05.793387Z",
     "start_time": "2024-08-20T13:24:05.469899Z"
    }
   },
   "cell_type": "code",
   "source": [
    "from src import check_ids, get_connection, close_connection, insert_query\n",
    "from src.teradata_query_batches import fetch_data_in_batches\n",
    "from teradataml import execute_sql\n",
    "import pandas as pd\n",
    "import joblib\n",
    "import math\n",
    "from teradataml.dataframe.fastload import fastload"
   ],
   "id": "initial_id",
   "outputs": [],
   "execution_count": 11
  },
  {
   "metadata": {
    "ExecuteTime": {
     "end_time": "2024-08-20T13:24:06.481911Z",
     "start_time": "2024-08-20T13:24:06.101436Z"
    }
   },
   "cell_type": "code",
   "source": [
    "batch_size = 500000\n",
    "query_file = '../sql/queries/customerid_query.sql'\n",
    "columns = ['UNIDAD DE NEGOCIO', 'ZONA','REGION','CUSTOMER_ID', 'LLAVE','MIN FECHA','MAX FECHA','TRANSACTIONS','MONEY','FECHAS','VOLUME','QTY']"
   ],
   "id": "29dfa12ee69abcc7",
   "outputs": [],
   "execution_count": 12
  },
  {
   "metadata": {
    "ExecuteTime": {
     "end_time": "2024-08-20T13:24:13.626752Z",
     "start_time": "2024-08-20T13:24:07.113382Z"
    }
   },
   "cell_type": "code",
   "source": "get_connection()",
   "id": "d7282b9444ca283e",
   "outputs": [
    {
     "name": "stdout",
     "output_type": "stream",
     "text": [
      "Conexión a Teradata Vantage establecida correctamente.\n"
     ]
    }
   ],
   "execution_count": 13
  },
  {
   "metadata": {
    "ExecuteTime": {
     "end_time": "2024-08-20T13:24:13.779477Z",
     "start_time": "2024-08-20T13:24:13.629469Z"
    }
   },
   "cell_type": "code",
   "source": [
    "preprocessor = joblib.load('../models/preprocessor.pkl')\n",
    "model = joblib.load('../models/random_forest_model.pkl')"
   ],
   "id": "ee3d8918136aefc1",
   "outputs": [],
   "execution_count": 14
  },
  {
   "metadata": {
    "ExecuteTime": {
     "end_time": "2024-08-20T13:24:13.979118Z",
     "start_time": "2024-08-20T13:24:13.781711Z"
    }
   },
   "cell_type": "code",
   "source": [
    "all_data = pd.DataFrame()\n",
    "\n",
    "with open(query_file, 'r') as file:\n",
    "    query_template = file.read()"
   ],
   "id": "e1fb79a7021a7d78",
   "outputs": [],
   "execution_count": 15
  },
  {
   "metadata": {
    "ExecuteTime": {
     "end_time": "2024-08-20T13:24:14.784039Z",
     "start_time": "2024-08-20T13:24:13.983974Z"
    }
   },
   "cell_type": "code",
   "source": [
    "count_query = \"\"\"\n",
    "    SELECT COUNT(*) AS total_records\n",
    "    FROM COL_MKT.INFO_PER_CUSTOMER\n",
    "    WHERE CUSTOMER_ID IS NOT NULL\n",
    "    \"\"\"\n",
    "\n",
    "total_records = pd.DataFrame(execute_sql(count_query))[0][0]\n",
    "total_batches = math.ceil(total_records / batch_size)\n",
    "print(total_batches)"
   ],
   "id": "bf49a2cfdf8b3261",
   "outputs": [
    {
     "name": "stdout",
     "output_type": "stream",
     "text": [
      "89\n"
     ]
    }
   ],
   "execution_count": 16
  },
  {
   "metadata": {
    "jupyter": {
     "is_executing": true
    },
    "ExecuteTime": {
     "start_time": "2024-08-20T13:24:14.788951Z"
    }
   },
   "cell_type": "code",
   "source": [
    "for batch in range(total_batches):\n",
    "    print(batch)\n",
    "    start = batch * batch_size + 1\n",
    "    end = start + batch_size - 1\n",
    "    query = query_template.format(start=start, end=end)\n",
    "    try:\n",
    "        \n",
    "        result = execute_sql(query)\n",
    "        \n",
    "        batch_df = pd.DataFrame(result, columns=columns)\n",
    "        batch_df['VOLUME'] = pd.to_numeric(batch_df['VOLUME'], errors='coerce')\n",
    "        batch_df['QTY'] = pd.to_numeric(batch_df['QTY'], errors='coerce')\n",
    "        batch_df['MONEY'] = pd.to_numeric(batch_df['MONEY'], errors='coerce')\n",
    "        batch_df['MIN FECHA'] = pd.to_datetime(batch_df['MIN FECHA'], format='%Y-%m-%d')\n",
    "        batch_df['MAX FECHA'] = pd.to_datetime(batch_df['MAX FECHA'], format='%Y-%m-%d')\n",
    "        batch_df[['ID_LENGTH', 'ID_HAS_REPEATED_DIGITS', 'ID_IS_ASCENDING', 'ID_IS_DESCENDING', 'ID_HAS_REPETITIVE_PATTERN']] = batch_df[\n",
    "            'CUSTOMER_ID'].apply(lambda x: pd.Series(check_ids(x)))\n",
    "        \n",
    "        input_processed = preprocessor.transform(batch_df)\n",
    "        prediction = model.predict(input_processed)\n",
    "        \n",
    "        batch_df['IS_VALID'] = prediction\n",
    "        batch_df = batch_df[['UNIDAD DE NEGOCIO','ZONA','REGION','CUSTOMER_ID','IS_VALID']]\n",
    "        \n",
    "        print('Insertando en Teradata...')\n",
    "        \n",
    "        fastload(df=batch_df, schema_name='COL_MKT', table_name='CUSTOMER_PREDICTIONS_AUX',if_exists='replace')\n",
    "        \n",
    "        print('Inserción auxiliar hecha')\n",
    "        \n",
    "        insert_query_predictions = \"\"\"\n",
    "            INSERT INTO COL_MKT.CUSTOMER_PREDICTIONS\n",
    "            SELECT * FROM COL_MKT.CUSTOMER_PREDICTIONS_AUX;\n",
    "            \"\"\"\n",
    "        \n",
    "        \n",
    "        execute_sql(insert_query_predictions)\n",
    "        \n",
    "        print(f'Inserción hecha de {batch_df.shape[0]}')\n",
    "        \n",
    "        all_data = pd.concat([all_data, batch_df], ignore_index=True)\n",
    "        \n",
    "    except Exception as e:\n",
    "        print(f'Error al ejecutar la consulta para el lote {batch}: {e}')"
   ],
   "id": "faf6d4f815ffd367",
   "outputs": [
    {
     "name": "stdout",
     "output_type": "stream",
     "text": [
      "0\n"
     ]
    }
   ],
   "execution_count": null
  },
  {
   "metadata": {
    "ExecuteTime": {
     "end_time": "2024-08-20T13:24:01.320177Z",
     "start_time": "2024-08-20T13:24:00.119634Z"
    }
   },
   "cell_type": "code",
   "source": "close_connection()",
   "id": "29cdd340cfeb096",
   "outputs": [],
   "execution_count": 9
  }
 ],
 "metadata": {
  "kernelspec": {
   "display_name": "Python 3",
   "language": "python",
   "name": "python3"
  },
  "language_info": {
   "codemirror_mode": {
    "name": "ipython",
    "version": 2
   },
   "file_extension": ".py",
   "mimetype": "text/x-python",
   "name": "python",
   "nbconvert_exporter": "python",
   "pygments_lexer": "ipython2",
   "version": "2.7.6"
  }
 },
 "nbformat": 4,
 "nbformat_minor": 5
}
